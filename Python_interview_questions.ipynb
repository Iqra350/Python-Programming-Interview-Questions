{
  "cells": [
    {
      "cell_type": "markdown",
      "metadata": {
        "id": "ZT_rekctHjaD"
      },
      "source": [
        "#Recurrsion"
      ]
    },
    {
      "cell_type": "code",
      "execution_count": null,
      "metadata": {
        "id": "zsQidcQ_HbLk"
      },
      "outputs": [],
      "source": [
        "import numpy as np\n",
        "arr = np.array([1, 3, 6, 7, 8])"
      ]
    },
    {
      "cell_type": "code",
      "execution_count": null,
      "metadata": {
        "colab": {
          "base_uri": "https://localhost:8080/"
        },
        "id": "CYuKwYO5Hzfx",
        "outputId": "09d1bd13-727c-487b-9130-4fd32034c583"
      },
      "outputs": [
        {
          "data": {
            "text/plain": [
              "[8, 7, 6, 3, 1]"
            ]
          },
          "execution_count": 2,
          "metadata": {},
          "output_type": "execute_result"
        }
      ],
      "source": [
        "#Reverse the array using recurrsion\n",
        "def reverse(list):\n",
        "    if len(list)==0:\n",
        "        return []\n",
        "    return [list[-1]]+reverse(list[:-1])\n",
        "reverse(arr)\n"
      ]
    },
    {
      "cell_type": "code",
      "execution_count": null,
      "metadata": {
        "colab": {
          "background_save": true,
          "base_uri": "https://localhost:8080/"
        },
        "id": "zFX7W961TrKK",
        "outputId": "e33a2d90-1b97-4fe5-852c-e6b8b1a421d0"
      },
      "outputs": [
        {
          "data": {
            "text/plain": [
              "10"
            ]
          },
          "execution_count": null,
          "metadata": {},
          "output_type": "execute_result"
        }
      ],
      "source": [
        "#Sum of list of numbers\n",
        "def listsum(list):\n",
        "  n = len(list)\n",
        "  if n == 0:\n",
        "    return []\n",
        "  else:\n",
        "    return list[:-1] + list[:n-1]\n",
        "\n",
        "listsum(arr)"
      ]
    },
    {
      "cell_type": "code",
      "source": [
        "#Fabocci series using recurssion\n",
        "def fab(a, b, n):\n",
        "  num = 0\n",
        "  b = 0\n",
        "  if a >= n:\n",
        "    return []\n",
        "  else:\n",
        "    b = a + b\n",
        "    print(a)\n",
        "    print(b)\n",
        "    return [b] + fab(s+1, s+1, n)\n",
        "fab(0, 1, 5)"
      ],
      "metadata": {
        "id": "zpF-Pw7gnRck"
      },
      "execution_count": null,
      "outputs": []
    },
    {
      "cell_type": "markdown",
      "metadata": {
        "id": "IkIYyaRwLPAL"
      },
      "source": [
        "#Local and global scope of variable"
      ]
    },
    {
      "cell_type": "code",
      "execution_count": null,
      "metadata": {
        "colab": {
          "base_uri": "https://localhost:8080/"
        },
        "id": "p7IG89h1JyB_",
        "outputId": "4c302560-1411-4475-febf-57906bf28141"
      },
      "outputs": [
        {
          "name": "stdout",
          "output_type": "stream",
          "text": [
            "10\n",
            "20\n",
            "10\n"
          ]
        }
      ],
      "source": [
        "temp = 10   # global-scope variable\n",
        "def func():\n",
        "     temp = 20   # local-scope variable\n",
        "     print(temp)\n",
        "print(temp)   # output => 10\n",
        "func()    # output => 20\n",
        "print(temp)   # output => 10"
      ]
    },
    {
      "cell_type": "code",
      "execution_count": null,
      "metadata": {
        "colab": {
          "base_uri": "https://localhost:8080/"
        },
        "id": "-ZEAQ9fbLYPg",
        "outputId": "00f06789-1f10-479e-9cc9-aea73ffc9efd"
      },
      "outputs": [
        {
          "name": "stdout",
          "output_type": "stream",
          "text": [
            "10\n",
            "20\n",
            "20\n"
          ]
        }
      ],
      "source": [
        "temp = 10   # global-scope variable\n",
        "def func():\n",
        "     global temp\n",
        "     temp = 20   # local-scope variable\n",
        "     print(temp)\n",
        "print(temp)   # output => 10\n",
        "func()    # output => 20\n",
        "print(temp)   # output => 20"
      ]
    },
    {
      "cell_type": "markdown",
      "metadata": {
        "id": "RKhtNBmObibt"
      },
      "source": [
        "#List and dict  and  array questions"
      ]
    },
    {
      "cell_type": "code",
      "execution_count": null,
      "metadata": {
        "colab": {
          "base_uri": "https://localhost:8080/"
        },
        "id": "BBtX-D29bhgT",
        "outputId": "daece1cf-d40b-4c1b-9db8-ae450729ce3f"
      },
      "outputs": [
        {
          "name": "stdout",
          "output_type": "stream",
          "text": [
            "[1, 3, 5, 7]\n",
            "{1: 1, 3: 3, 5: 5, 7: 7}\n"
          ]
        }
      ],
      "source": [
        "# list and dict comprehension\n",
        "#list compehension\n",
        "element = [1, 3, 5, 6, 7, 8, 18, 6]\n",
        "list1 = [x for x in element if x%2 != 0]\n",
        "print(list1)\n",
        "#dict comprehension\n",
        "list2 = {x:x for x in element if x%2 != 0}\n",
        "print(list2)"
      ]
    },
    {
      "cell_type": "code",
      "execution_count": null,
      "metadata": {
        "colab": {
          "base_uri": "https://localhost:8080/"
        },
        "id": "o1JDS0zcLdmL",
        "outputId": "7077962c-c7a6-44e5-c101-7c2fa0462c5c"
      },
      "outputs": [
        {
          "name": "stdout",
          "output_type": "stream",
          "text": [
            "[-1, 0, -2]\n",
            "[(2, 3), (2, 5), (2, 6), (5, 3), (5, 5), (5, 6), (4, 3), (4, 5), (4, 6)]\n"
          ]
        }
      ],
      "source": [
        "#combning two lists comprehension\n",
        "list1 = [2, 5, 4]\n",
        "list2 = [3, 5, 6]\n",
        "result = [(x-y) for x,y in zip(list1, list2)]\n",
        "print(result)\n",
        "#nested iterartions\n",
        "result1 = [(x, y) for x in list1 for y in list2]\n",
        "print(result1)"
      ]
    },
    {
      "cell_type": "code",
      "execution_count": null,
      "metadata": {
        "colab": {
          "base_uri": "https://localhost:8080/"
        },
        "id": "bhY82gLGdVEe",
        "outputId": "d19aaf3e-5425-4e07-9f42-bacb1b980133"
      },
      "outputs": [
        {
          "name": "stdout",
          "output_type": "stream",
          "text": [
            "[10, 20, 30, 40, 50, 60, 70, 80, 90]\n",
            "[10, 20, 30, 40, 50, 60, 70, 80, 90]\n"
          ]
        }
      ],
      "source": [
        "#two for loops\n",
        "my_list = [[10,20,30],[40,50,60],[70,80,90]]\n",
        "result2 = [x for temp in my_list for x in temp]\n",
        "print(result2)\n",
        "result3 = [(lambda x:x)(x) for temp in my_list for x in temp]\n",
        "print(result3)"
      ]
    },
    {
      "cell_type": "code",
      "execution_count": null,
      "metadata": {
        "colab": {
          "base_uri": "https://localhost:8080/"
        },
        "id": "Tf3ACL8BeZj8",
        "outputId": "1fdecee1-a166-44ee-9478-8c9aa7467255"
      },
      "outputs": [
        {
          "name": "stdout",
          "output_type": "stream",
          "text": [
            "[10, 20, 30, 40, 50, 60, 70, 80, 90]\n",
            "[10, 20, 30, 40, 50, 60, 70, 80, 90]\n"
          ]
        }
      ],
      "source": [
        "#list comprehension in lambda function\n",
        "#First way:\n",
        "result3 = [(lambda x:x)(x) for temp in my_list for x in temp]\n",
        "print(result3)\n",
        "#Second way\n",
        "f = lambda x: x \n",
        "result4 = [f(x) for temp in my_list for x in temp]\n",
        "print(result4)"
      ]
    },
    {
      "cell_type": "code",
      "execution_count": null,
      "metadata": {
        "colab": {
          "base_uri": "https://localhost:8080/"
        },
        "id": "9icLuvIVfU7C",
        "outputId": "49ee9869-6205-4df9-ae55-d56daf70a1e5"
      },
      "outputs": [
        {
          "name": "stdout",
          "output_type": "stream",
          "text": [
            "10\n"
          ]
        }
      ],
      "source": [
        "#Wrapper function and lambda funtion\n",
        "def myWrapper(n):\n",
        " return lambda a : a * n\n",
        "mulFive = myWrapper(5)\n",
        "print(mulFive(2))"
      ]
    },
    {
      "cell_type": "code",
      "execution_count": null,
      "metadata": {
        "id": "UyFh6zf0gtCJ"
      },
      "outputs": [],
      "source": [
        "#Copying the objects\n",
        "from copy import copy , deepcopy"
      ]
    },
    {
      "cell_type": "code",
      "execution_count": null,
      "metadata": {
        "colab": {
          "base_uri": "https://localhost:8080/"
        },
        "id": "CZMAjaITh2n6",
        "outputId": "51cd2638-0123-46b9-c8c2-e8183c77f2ed"
      },
      "outputs": [
        {
          "name": "stdout",
          "output_type": "stream",
          "text": [
            "[1, 4, 5, 6]\n",
            "[1, 4, 100, 6, 500]\n",
            "[1, 4, 5, 6]\n",
            "[1, 4, 100, 6, 500]\n"
          ]
        }
      ],
      "source": [
        "#shallow copy\n",
        "list1 = [1, 4, 5, 6]\n",
        "list2 = copy(list1)\n",
        "list2[2] = 100\n",
        "list2.append(500)\n",
        "print(list1)\n",
        "print(list2)\n",
        "#deep copy \n",
        "list1 = [1, 4, 5, 6]\n",
        "list3 = deepcopy(list1)\n",
        "list3[2] = 100\n",
        "list3.append(500)\n",
        "print(list1)\n",
        "print(list3)"
      ]
    },
    {
      "cell_type": "code",
      "execution_count": null,
      "metadata": {
        "colab": {
          "base_uri": "https://localhost:8080/"
        },
        "id": "ME8h8tCUijQ2",
        "outputId": "a1a4c738-4e20-4f7b-c3ad-8215b88c3ca2"
      },
      "outputs": [
        {
          "name": "stdout",
          "output_type": "stream",
          "text": [
            "0\n",
            "1\n",
            "1\n",
            "2\n",
            "3\n",
            "5\n",
            "8\n",
            "13\n",
            "21\n",
            "34\n"
          ]
        }
      ],
      "source": [
        "#Generating faboci series\n",
        "def fib(x):\n",
        "  a = 0\n",
        "  b = 1\n",
        "  count = 0\n",
        "  while count < x:\n",
        "    print(a)\n",
        "    a_nxt = a + b    \n",
        "    a, b = b, a_nxt\n",
        "    count += 1\n",
        "  \n",
        "fib(10)"
      ]
    },
    {
      "cell_type": "code",
      "execution_count": null,
      "metadata": {
        "colab": {
          "base_uri": "https://localhost:8080/"
        },
        "id": "vU5Z5OExr0XU",
        "outputId": "6372d826-05b3-495f-ac62-2a0b6c054daf"
      },
      "outputs": [
        {
          "name": "stdout",
          "output_type": "stream",
          "text": [
            "Enter number of terms:10\n",
            "Fibonacci sequence:\n",
            "0\n",
            "1\n",
            "1\n",
            "2\n",
            "3\n",
            "5\n",
            "8\n",
            "13\n",
            "21\n",
            "34\n"
          ]
        }
      ],
      "source": [
        "#Printing of fibnocci series\n",
        "def fibonacci(n):\n",
        "    if(n <= 1):\n",
        "        return n\n",
        "    else:\n",
        "        return(fibonacci(n-1) + fibonacci(n-2))\n",
        "n = int(input(\"Enter number of terms:\"))\n",
        "print(\"Fibonacci sequence:\")\n",
        "for i in range(n):\n",
        "    print(fibonacci(i))"
      ]
    },
    {
      "cell_type": "code",
      "execution_count": null,
      "metadata": {
        "colab": {
          "base_uri": "https://localhost:8080/"
        },
        "id": "pgoPEcYTHVK1",
        "outputId": "e78166da-877b-4e56-b3c8-d482d2dac447"
      },
      "outputs": [
        {
          "name": "stdout",
          "output_type": "stream",
          "text": [
            "[1, 2, 3]\n",
            "[1, 2, 3, 4]\n",
            "[1, 2, 3, 4]\n"
          ]
        }
      ],
      "source": [
        "#values pass by refrence in python\n",
        "def appendNumber(arr):\n",
        "   arr.append(4)\n",
        "arr = [1, 2, 3]\n",
        "print(arr)  #Output: => [1, 2, 3]\n",
        "appendNumber(arr)\n",
        "print(arr)  #Output: => [1, 2, 3, 4]\n",
        "\n",
        "print(arr)"
      ]
    },
    {
      "cell_type": "markdown",
      "metadata": {
        "id": "BBvovE_AJ1pz"
      },
      "source": [
        "#Strings in python"
      ]
    },
    {
      "cell_type": "code",
      "execution_count": null,
      "metadata": {
        "colab": {
          "base_uri": "https://localhost:8080/",
          "height": 35
        },
        "id": "VGehbzaTIEA7",
        "outputId": "c72ebaf7-8451-4379-d299-009de9df1a24"
      },
      "outputs": [
        {
          "data": {
            "application/vnd.google.colaboratory.intrinsic+json": {
              "type": "string"
            },
            "text/plain": [
              "'This is the programming practice code for interview questions'"
            ]
          },
          "execution_count": 16,
          "metadata": {},
          "output_type": "execute_result"
        }
      ],
      "source": [
        "# split the string\n",
        "string = 'This is the programming practice code for interview questions'\n",
        "string_list = string.split(' ')\n",
        "' '.join(string_list)"
      ]
    },
    {
      "cell_type": "code",
      "execution_count": null,
      "metadata": {
        "colab": {
          "base_uri": "https://localhost:8080/"
        },
        "id": "ckjyaUXqKH2S",
        "outputId": "549ee3a8-dfd7-4adb-ae7e-77399e882b91"
      },
      "outputs": [
        {
          "name": "stdout",
          "output_type": "stream",
          "text": [
            "(3, 4, 5)\n",
            "(3, 4, 5)\n",
            "(3, 4, 5)\n",
            "120\n"
          ]
        }
      ],
      "source": [
        "# *argv and *kwargs\n",
        "def multiply(a, b, *argv):\n",
        "   mul = a * b\n",
        "   for num in argv:\n",
        "       mul *= num\n",
        "       print(argv)\n",
        "   return mul\n",
        "print(multiply(1, 2, 3, 4, 5)) #output: 120"
      ]
    },
    {
      "cell_type": "code",
      "execution_count": null,
      "metadata": {
        "colab": {
          "base_uri": "https://localhost:8080/"
        },
        "id": "KRZykPG1SX1n",
        "outputId": "b9e376d8-4355-4881-82ff-948910576dc4"
      },
      "outputs": [
        {
          "name": "stdout",
          "output_type": "stream",
          "text": [
            "1\n",
            "hello\n"
          ]
        }
      ],
      "source": [
        "def keyarg(**kwargs):\n",
        "  for key, values in kwargs.items():\n",
        "    #print(key)\n",
        "    print(values)\n",
        "    #print(kwargs)\n",
        "keyarg(arg1 = '1', arg2 = 'hello')"
      ]
    },
    {
      "cell_type": "code",
      "execution_count": null,
      "metadata": {
        "colab": {
          "base_uri": "https://localhost:8080/"
        },
        "id": "tKfZKnpJS8WK",
        "outputId": "87ba302e-5b1b-4444-ce3c-30e17af2e9b9"
      },
      "outputs": [
        {
          "data": {
            "text/plain": [
              "[6, 5, 4]"
            ]
          },
          "execution_count": 49,
          "metadata": {},
          "output_type": "execute_result"
        }
      ],
      "source": [
        "arr = [1, 2, 3, 4, 5, 6]\n",
        "#print last two elements in reverse order\n",
        "arr[:2:-1]"
      ]
    },
    {
      "cell_type": "code",
      "execution_count": null,
      "metadata": {
        "colab": {
          "base_uri": "https://localhost:8080/"
        },
        "id": "5CxRivisULG5",
        "outputId": "0c5dba71-ba52-4330-dbed-626623abbbf0"
      },
      "outputs": [
        {
          "data": {
            "text/plain": [
              "[3, 2, 1]"
            ]
          },
          "execution_count": 48,
          "metadata": {},
          "output_type": "execute_result"
        }
      ],
      "source": [
        "arr = [1, 2, 3, 4, 5, 6]\n",
        "#print last two elements in reverse order\n",
        "arr[2::-1]"
      ]
    },
    {
      "cell_type": "markdown",
      "metadata": {
        "id": "ZmICrRvxY2RK"
      },
      "source": [
        "#Classes in python"
      ]
    },
    {
      "cell_type": "code",
      "execution_count": null,
      "metadata": {
        "id": "cw4PgBSJVHV6"
      },
      "outputs": [],
      "source": [
        "class childclass():\n",
        "  def __init__(self, number):\n",
        "    self.number = number\n",
        "  def squre(self):\n",
        "    return self.number * self.number\n",
        "\n",
        "class parentclass(childclass):\n",
        "  def double(self):\n",
        "    return 2 * self.number \n",
        "\n"
      ]
    },
    {
      "cell_type": "code",
      "execution_count": null,
      "metadata": {
        "colab": {
          "base_uri": "https://localhost:8080/"
        },
        "id": "BcVmTW4SZgz3",
        "outputId": "d0616d20-2ffe-40bc-9d98-5a2ad7ec6857"
      },
      "outputs": [
        {
          "data": {
            "text/plain": [
              "10"
            ]
          },
          "execution_count": 63,
          "metadata": {},
          "output_type": "execute_result"
        }
      ],
      "source": [
        "ob1 = parentclass(5)\n",
        "ob1.double()"
      ]
    },
    {
      "cell_type": "code",
      "execution_count": null,
      "metadata": {
        "colab": {
          "base_uri": "https://localhost:8080/"
        },
        "id": "idqicc6uZtoq",
        "outputId": "bbb96a55-067a-4576-f7d8-56878c3fe317"
      },
      "outputs": [
        {
          "name": "stdout",
          "output_type": "stream",
          "text": [
            "I am from the parent class.\n",
            "I am from the first child.\n",
            "I am from the parent class.\n",
            "I am from the second child.\n"
          ]
        }
      ],
      "source": [
        "# Base class\n",
        "class A:\n",
        "     def a_func(self):\n",
        "         print(\"I am from the parent class.\")\n",
        "\n",
        "# 1st Derived class\n",
        "class B(A):\n",
        "     def b_func(self):\n",
        "         print(\"I am from the first child.\")\n",
        "\n",
        "# 2nd Derived class\n",
        "class C(A):\n",
        "     def c_func(self):\n",
        "         print(\"I am from the second child.\")\n",
        " \n",
        "# Driver's code\n",
        "obj1 = B()\n",
        "obj2 = C()\n",
        "obj1.a_func()\n",
        "obj1.b_func()    #child 1 method\n",
        "obj2.a_func()\n",
        "obj2.c_func()    #child 2 method\n",
        "\n"
      ]
    },
    {
      "cell_type": "code",
      "execution_count": null,
      "metadata": {
        "colab": {
          "base_uri": "https://localhost:8080/"
        },
        "id": "r6ivySrpbDMa",
        "outputId": "2c07ad77-238c-4ebd-94a1-59e16070e281"
      },
      "outputs": [
        {
          "name": "stdout",
          "output_type": "stream",
          "text": [
            "Interviewbit 6\n"
          ]
        }
      ],
      "source": [
        "class Parent(object):  \n",
        "   # Constructor\n",
        "   def __init__(self, name):\n",
        "       self.name = name    \n",
        " \n",
        "class Child(Parent): \n",
        "   # Constructor\n",
        "   def __init__(self, name, age):\n",
        "       Parent.name = name\n",
        "       self.age = age\n",
        " \n",
        "   def display(self):\n",
        "       print(Parent.name, self.age)\n",
        " \n",
        "# Driver Code\n",
        "obj = Child(\"Interviewbit\", 6)\n",
        "obj.display()"
      ]
    },
    {
      "cell_type": "code",
      "execution_count": null,
      "metadata": {
        "colab": {
          "base_uri": "https://localhost:8080/"
        },
        "id": "mxG4wGJbbYM4",
        "outputId": "7a76392c-c692-4aed-b97e-3eae001e0d22"
      },
      "outputs": [
        {
          "name": "stdout",
          "output_type": "stream",
          "text": [
            "True\n",
            "False\n"
          ]
        }
      ],
      "source": [
        "#Check child or parent class is subclass\n",
        "class Parent(object):\n",
        "   pass   \n",
        " \n",
        "class Child(Parent):\n",
        "   pass   \n",
        " \n",
        "# Driver Code\n",
        "print(issubclass(Child, Parent))    #True\n",
        "print(issubclass(childclass, parentclass))    #False"
      ]
    },
    {
      "cell_type": "markdown",
      "metadata": {
        "id": "q0oNjqxoczr8"
      },
      "source": [
        "#Pandas questions"
      ]
    },
    {
      "cell_type": "code",
      "execution_count": null,
      "metadata": {
        "colab": {
          "base_uri": "https://localhost:8080/"
        },
        "id": "Py-o2BUWb-a0",
        "outputId": "6ec10324-8752-4e10-dff4-a5be3ce6969a"
      },
      "outputs": [
        {
          "name": "stdout",
          "output_type": "stream",
          "text": [
            "key1    2.0\n",
            "key2    3.1\n",
            "key3    2.2\n",
            "dtype: float64\n"
          ]
        }
      ],
      "source": [
        "#Converting dict into series\n",
        "import pandas as pd    \n",
        "dict_info = {'key1' : 2.0, 'key2' : 3.1, 'key3' : 2.2}  \n",
        "series_obj = pd.Series(dict_info)    \n",
        "print (series_obj)    "
      ]
    },
    {
      "cell_type": "code",
      "execution_count": null,
      "metadata": {
        "colab": {
          "base_uri": "https://localhost:8080/"
        },
        "id": "QoEsW2dHc4Rp",
        "outputId": "40eb615c-926d-4e0d-8e2c-04e5b1db63a3"
      },
      "outputs": [
        {
          "name": "stdout",
          "output_type": "stream",
          "text": [
            "   first  second  third\n",
            "a    1.0       1   10.0\n",
            "b    2.0       2   20.0\n",
            "c    3.0       3   30.0\n",
            "d    NaN       4    NaN\n"
          ]
        }
      ],
      "source": [
        "import pandas as pd      \n",
        "data_info = {'first' : pd.Series([1, 2, 3], index=['a', 'b', 'c']),    \n",
        "       'second' : pd.Series([1, 2, 3, 4], index=['a', 'b', 'c', 'd'])}    \n",
        "  \n",
        "df = pd.DataFrame(data_info)    \n",
        "#To add new column third\n",
        "df['third']=pd.Series([10,20,30],index=['a','b','c'])    \n",
        "print (df)    \n",
        "#To add new column fourth\n",
        "df['fourth']=df['first']+df['third']    \n",
        "#print (df)  "
      ]
    },
    {
      "cell_type": "code",
      "execution_count": null,
      "metadata": {
        "colab": {
          "base_uri": "https://localhost:8080/"
        },
        "id": "TgsXP8EueYT4",
        "outputId": "f5e8a63c-82be-408b-a8cb-e340bbb0ae26"
      },
      "outputs": [
        {
          "name": "stdout",
          "output_type": "stream",
          "text": [
            "       col1      col2      col3  col4\n",
            "1 -0.368838  0.210328  0.059639     1\n",
            "2 -1.025245 -0.626400 -0.967654     4\n",
            "3  1.642866  2.003923 -0.513566     3\n",
            "4  2.509781  1.104124  0.865785     5\n",
            "5  1.739892  1.266685 -0.271885     3\n",
            "       col1      col2  col4\n",
            "1 -0.368838  0.210328     1\n",
            "2 -1.025245 -0.626400     4\n",
            "3  1.642866  2.003923     3\n",
            "4  2.509781  1.104124     5\n",
            "5  1.739892  1.266685     3\n"
          ]
        }
      ],
      "source": [
        "#Conoverting numpy array to pd dataframe and add and remove the colums\n",
        "import numpy as np\n",
        "array = np.random.randn(5, 3)\n",
        "df = pd.DataFrame(array, columns= ['col1', 'col2', 'col3'], index=['1', '2', '3', '4', '5'])\n",
        "#add column \n",
        "df['col4'] = [1, 4, 3, 5, 3]\n",
        "print(df)\n",
        "#remove colum\n",
        "df1 = df.drop('col3', axis='columns')\n",
        "print(df1)"
      ]
    },
    {
      "cell_type": "code",
      "execution_count": null,
      "metadata": {
        "colab": {
          "base_uri": "https://localhost:8080/"
        },
        "id": "IO4GfsH2i03e",
        "outputId": "dc3b7b32-448f-49b2-fec5-d1961f375f1f"
      },
      "outputs": [
        {
          "name": "stdout",
          "output_type": "stream",
          "text": [
            "[2 3]\n",
            "[2 3]\n",
            "{2, 3}\n",
            "[2, 3]\n"
          ]
        }
      ],
      "source": [
        "#printing the elements that are not same\n",
        "\n",
        "#intersection and union method\n",
        "arr1 = np.array([2, 4, 7, 6])\n",
        "arr2 = np.array([3, 4, 6, 7])\n",
        "intersection  = np.intersect1d(arr1, arr2)\n",
        "union = np.union1d(arr1, arr2)\n",
        "unique_elements = np.setdiff1d(union, intersection)\n",
        "print(unique_elements)\n",
        "\n",
        "#using setxor operation\n",
        "elements = np.setxor1d(arr1, arr2)\n",
        "print(elements)\n",
        "\n",
        "#symmetric differences method\n",
        "elements2 = np.array(set(arr1).symmetric_difference(arr2))\n",
        "print(elements2)\n",
        "\n",
        "#using loop comprehension\n",
        "elements3 = [x for x in arr1 if x not in arr2] + [x for x in arr2 if x not in arr1]\n",
        "print(elements3)"
      ]
    },
    {
      "cell_type": "markdown",
      "metadata": {
        "id": "60kU6BiOuzqi"
      },
      "source": [
        "#Sorting in python"
      ]
    },
    {
      "cell_type": "code",
      "execution_count": null,
      "metadata": {
        "colab": {
          "base_uri": "https://localhost:8080/"
        },
        "id": "3paazlRZu3TD",
        "outputId": "101047f8-e032-4b67-907f-320548c05463"
      },
      "outputs": [
        {
          "name": "stdout",
          "output_type": "stream",
          "text": [
            "[1, 5, 2, 3, 4, 7, 6]\n",
            "[1, 2, 3, 4, 5, 6, 7]\n",
            "[7, 6, 5, 4, 3, 2, 1]\n",
            "[1, 2, 3, 4, 5, 6, 7]\n",
            "[7, 6, 5, 4, 3, 2, 1]\n"
          ]
        }
      ],
      "source": [
        "#sort the numpy array using sort()\n",
        "arr = np.array([1, 5, 2, 3, 4, 7, 6]).tolist()\n",
        "print(arr)\n",
        "arr.sort()\n",
        "print(arr)\n",
        "arr.sort(reverse = True)\n",
        "print(arr)\n",
        "arr1 = sorted(arr)\n",
        "print(arr1)\n",
        "arr2 = sorted(arr, reverse = True)\n",
        "print(arr2)"
      ]
    },
    {
      "cell_type": "code",
      "execution_count": null,
      "metadata": {
        "colab": {
          "base_uri": "https://localhost:8080/"
        },
        "id": "GJmPtGXJvHk8",
        "outputId": "74f85230-7775-4f3a-809c-f9e5a95cc5b1"
      },
      "outputs": [
        {
          "data": {
            "text/plain": [
              "5"
            ]
          },
          "execution_count": 13,
          "metadata": {},
          "output_type": "execute_result"
        }
      ],
      "source": [
        "#Find the nearest value in array for given number\n",
        "import numpy as np\n",
        "number = 6.9\n",
        "array = np.array([1, 5, 2, 3, 4, 7, 6])\n",
        "np.abs(array - number).argmin()"
      ]
    },
    {
      "cell_type": "markdown",
      "metadata": {
        "id": "vytkV0mf7UPx"
      },
      "source": [
        "##Factorial of the number"
      ]
    },
    {
      "cell_type": "code",
      "execution_count": null,
      "metadata": {
        "colab": {
          "base_uri": "https://localhost:8080/"
        },
        "id": "mTZGa_7rzWa8",
        "outputId": "2cc35c94-e801-4dd0-e1a1-5d6da2d43d6c"
      },
      "outputs": [
        {
          "name": "stdout",
          "output_type": "stream",
          "text": [
            "Enter the number4\n"
          ]
        },
        {
          "data": {
            "text/plain": [
              "24"
            ]
          },
          "execution_count": 20,
          "metadata": {},
          "output_type": "execute_result"
        }
      ],
      "source": [
        "number = input('Enter the number')\n",
        "def factorial(n):\n",
        "  factorial = 1\n",
        "  if n == 0:\n",
        "    print('factorial of 0 is 1')\n",
        "  elif n < 0:\n",
        "      print('factorial of negative number do not exist')\n",
        "      return\n",
        "  else:\n",
        "    for i in range(1, n+1):\n",
        "      factorial = factorial * i\n",
        "  return factorial\n",
        "\n",
        "factorial(int(number))"
      ]
    },
    {
      "cell_type": "code",
      "execution_count": null,
      "metadata": {
        "colab": {
          "base_uri": "https://localhost:8080/"
        },
        "id": "M8EkadbT7wWP",
        "outputId": "257ebf03-519d-44e6-daa6-25b92b340e32"
      },
      "outputs": [
        {
          "data": {
            "text/plain": [
              "24"
            ]
          },
          "execution_count": 24,
          "metadata": {},
          "output_type": "execute_result"
        }
      ],
      "source": [
        "#Factorial using recurrsion\n",
        "def factorialrec(n):\n",
        "  if n == 1:\n",
        "    return n\n",
        "  else:\n",
        "    return factorialrec(n - 1) * n\n",
        "factorialrec(int(number))"
      ]
    },
    {
      "cell_type": "code",
      "execution_count": null,
      "metadata": {
        "colab": {
          "base_uri": "https://localhost:8080/"
        },
        "id": "Qu7fK82K_9VK",
        "outputId": "df8eebd1-b1a0-4d9a-cb65-e7cf5b979948"
      },
      "outputs": [
        {
          "data": {
            "text/plain": [
              "True"
            ]
          },
          "execution_count": 32,
          "metadata": {},
          "output_type": "execute_result"
        }
      ],
      "source": [
        "(4 & 3) == 0"
      ]
    },
    {
      "cell_type": "code",
      "execution_count": null,
      "metadata": {
        "colab": {
          "base_uri": "https://localhost:8080/"
        },
        "id": "bCn4-xmqEDWR",
        "outputId": "cc431a8f-9948-49e5-c6f8-17f8f7198a13"
      },
      "outputs": [
        {
          "name": "stdout",
          "output_type": "stream",
          "text": [
            "[3, 2, 5, 6]\n",
            "(3, 2, 5, 6)\n"
          ]
        }
      ],
      "source": [
        "x = 3, 2, 5, 6\n",
        "print(list(x))\n",
        "print((x))\n"
      ]
    },
    {
      "cell_type": "code",
      "execution_count": null,
      "metadata": {
        "colab": {
          "background_save": true
        },
        "id": "MQrhc7llIfG6",
        "outputId": "b226bd03-ae5c-4c4b-8c56-5182f1dea17c"
      },
      "outputs": [
        {
          "data": {
            "application/vnd.google.colaboratory.intrinsic+json": {
              "type": "string"
            },
            "text/plain": [
              "'ets'"
            ]
          },
          "execution_count": null,
          "metadata": {},
          "output_type": "execute_result"
        }
      ],
      "source": [
        "x = 'jsvs.ets'\n",
        "y = x.split('.')\n",
        "y[1]"
      ]
    },
    {
      "cell_type": "code",
      "execution_count": null,
      "metadata": {
        "colab": {
          "base_uri": "https://localhost:8080/"
        },
        "id": "8lUfeWmyJKhr",
        "outputId": "d30ba2b4-b6d0-45c2-d4eb-aa9ebba58cae"
      },
      "outputs": [
        {
          "name": "stdout",
          "output_type": "stream",
          "text": [
            "         4 function calls in 0.000 seconds\n",
            "\n",
            "   Ordered by: standard name\n",
            "\n",
            "   ncalls  tottime  percall  cumtime  percall filename:lineno(function)\n",
            "        1    0.000    0.000    0.000    0.000 <ipython-input-2-bb29e409f8ed>:3(mul)\n",
            "        1    0.000    0.000    0.000    0.000 <string>:1(<module>)\n",
            "        1    0.000    0.000    0.000    0.000 {built-in method builtins.exec}\n",
            "        1    0.000    0.000    0.000    0.000 {method 'disable' of '_lsprof.Profiler' objects}\n",
            "\n",
            "\n"
          ]
        }
      ],
      "source": [
        "#profiling of python program\n",
        "import cProfile\n",
        "def mul(a, b):\n",
        "  return (a * b)\n",
        "cProfile.run('mul(2, 4)')"
      ]
    },
    {
      "cell_type": "code",
      "execution_count": null,
      "metadata": {
        "colab": {
          "base_uri": "https://localhost:8080/"
        },
        "id": "_0gBD9CeYXpz",
        "outputId": "78440229-3e70-4c0f-8a15-34e9b2952f59"
      },
      "outputs": [
        {
          "name": "stdout",
          "output_type": "stream",
          "text": [
            "args:  123 456 789\n",
            "kwargs: \n"
          ]
        },
        {
          "name": "stderr",
          "output_type": "stream",
          "text": [
            "123__456__789\n"
          ]
        }
      ],
      "source": [
        "#Print stderr\n",
        "from __future__ import print_function\n",
        "import sys\n",
        "def func(*args, **kwargs):\n",
        "  print(*args, file=sys.stderr, **kwargs)\n",
        "  print('args: ', *args)\n",
        "  print('kwargs: ', **kwargs)\n",
        "func('123', '456', '789', sep='__')"
      ]
    },
    {
      "cell_type": "code",
      "execution_count": null,
      "metadata": {
        "colab": {
          "base_uri": "https://localhost:8080/"
        },
        "id": "ZQoT9Jl-cCv2",
        "outputId": "a263859c-1758-4352-9772-664edc1cd0a1"
      },
      "outputs": [
        {
          "name": "stdout",
          "output_type": "stream",
          "text": [
            "root\n"
          ]
        }
      ],
      "source": [
        "#Get current username\n",
        "import getpass\n",
        "print(getpass.getuser())"
      ]
    },
    {
      "cell_type": "code",
      "execution_count": null,
      "metadata": {
        "colab": {
          "base_uri": "https://localhost:8080/"
        },
        "id": "m3RY8jIHe5yZ",
        "outputId": "3f4895f5-d172-493d-84eb-daf0cb65bbab"
      },
      "outputs": [
        {
          "name": "stdout",
          "output_type": "stream",
          "text": [
            "Copyright (c) 2001-2022 Python Software Foundation.\n",
            "All Rights Reserved.\n",
            "\n",
            "Copyright (c) 2000 BeOpen.com.\n",
            "All Rights Reserved.\n",
            "\n",
            "Copyright (c) 1995-2001 Corporation for National Research Initiatives.\n",
            "All Rights Reserved.\n",
            "\n",
            "Copyright (c) 1991-1995 Stichting Mathematisch Centrum, Amsterdam.\n",
            "All Rights Reserved.\n"
          ]
        }
      ],
      "source": [
        "#print copyright information\n",
        "import sys\n",
        "print(sys.copyright)"
      ]
    },
    {
      "cell_type": "code",
      "execution_count": null,
      "metadata": {
        "colab": {
          "base_uri": "https://localhost:8080/"
        },
        "id": "_DqWNMot3Jah",
        "outputId": "89f18baa-36ac-469e-ab12-dce78c36dc51"
      },
      "outputs": [
        {
          "name": "stdout",
          "output_type": "stream",
          "text": [
            "False\n",
            "True\n"
          ]
        }
      ],
      "source": [
        "#Check the certain number is greater than all the numbers in list\n",
        "x = [2, 4, 5, 3, 6, 8]\n",
        "print(all([i > 4 for i in x]))\n",
        "print(all([i > 1 for i in x]))"
      ]
    },
    {
      "cell_type": "code",
      "execution_count": null,
      "metadata": {
        "colab": {
          "base_uri": "https://localhost:8080/"
        },
        "id": "mVTCgoY_Mf8p",
        "outputId": "95389285-d3a1-4322-a2f0-1ff3ef45851a"
      },
      "outputs": [
        {
          "name": "stdout",
          "output_type": "stream",
          "text": [
            "97\n"
          ]
        }
      ],
      "source": [
        "#print the asci value of the alphabets\n",
        "print(ord('a'))"
      ]
    },
    {
      "cell_type": "code",
      "execution_count": null,
      "metadata": {
        "colab": {
          "base_uri": "https://localhost:8080/"
        },
        "id": "H7aWdNC2Ta7L",
        "outputId": "2e1f8b5a-9227-46ca-f3e5-425aa83580de"
      },
      "outputs": [
        {
          "name": "stdout",
          "output_type": "stream",
          "text": [
            "397026a3fa09\n"
          ]
        }
      ],
      "source": [
        "#Import the host name\n",
        "import socket\n",
        "print(socket.gethostname())"
      ]
    },
    {
      "cell_type": "code",
      "execution_count": null,
      "metadata": {
        "colab": {
          "base_uri": "https://localhost:8080/"
        },
        "id": "4haZzMmiWhc3",
        "outputId": "e35d090b-4812-49a2-ba0f-a08a485d38d1"
      },
      "outputs": [
        {
          "name": "stdout",
          "output_type": "stream",
          "text": [
            "100\n",
            "100\n"
          ]
        }
      ],
      "source": [
        "#function to print the sum of cubes of numbers smaller than specific number\n",
        "def sumofcube(n):\n",
        "  sum = 0\n",
        "  for i in range(n + 1):\n",
        "    sum = sum + i**3\n",
        "  return sum\n",
        "print(sumofcube(4))\n",
        "#function to print the sum of cubes of numbers smaller than specific number\n",
        "#with recurrsion\n",
        "def cube(n):\n",
        "  if n == 1:\n",
        "    return n\n",
        "  return n**3 + cube(n-1)\n",
        "print(cube(4))"
      ]
    },
    {
      "cell_type": "code",
      "execution_count": null,
      "metadata": {
        "colab": {
          "base_uri": "https://localhost:8080/"
        },
        "id": "ptn9tUvLd_Ab",
        "outputId": "3d26e1b8-5bc2-4f1a-f762-9c30925fadf8"
      },
      "outputs": [
        {
          "data": {
            "text/plain": [
              "8"
            ]
          },
          "execution_count": 27,
          "metadata": {},
          "output_type": "execute_result"
        }
      ],
      "source": [
        "2**3"
      ]
    },
    {
      "cell_type": "code",
      "execution_count": null,
      "metadata": {
        "colab": {
          "base_uri": "https://localhost:8080/"
        },
        "id": "Yh7Hypkjewks",
        "outputId": "872fbe14-4c4f-4a3f-b2ce-28f63029cc90"
      },
      "outputs": [
        {
          "name": "stdout",
          "output_type": "stream",
          "text": [
            "j 12\n",
            "sequence is same\n"
          ]
        }
      ],
      "source": [
        "#check the same sequence of numbers of zeros and ones\n",
        "def checksequence(num):\n",
        "  n = str(num)\n",
        "  j = len(n)\n",
        "  print('j', j)\n",
        "  count = 0\n",
        "  if n.count('0') == n.count('1'):\n",
        "    for i in range(len(n)):\n",
        "      if n[i] != n[j - 1]:\n",
        "        count += 1\n",
        "        #print('count:',count)\n",
        "        j -= 1\n",
        "        #print('j',j)\n",
        "      \n",
        "      if count == len(n):\n",
        "        print('sequence is same')\n",
        "  else:\n",
        "    print('number are of not same sequence')\n",
        "\n",
        "   \n",
        "checksequence(111000111000)\n"
      ]
    },
    {
      "cell_type": "code",
      "execution_count": null,
      "metadata": {
        "id": "s73xTH4kvnVc"
      },
      "outputs": [],
      "source": []
    }
  ],
  "metadata": {
    "colab": {
      "collapsed_sections": [],
      "provenance": []
    },
    "kernelspec": {
      "display_name": "Python 3",
      "name": "python3"
    },
    "language_info": {
      "name": "python"
    }
  },
  "nbformat": 4,
  "nbformat_minor": 0
}